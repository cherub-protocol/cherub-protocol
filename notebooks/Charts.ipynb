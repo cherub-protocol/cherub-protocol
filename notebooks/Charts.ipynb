{
 "cells": [
  {
   "cell_type": "markdown",
   "id": "e1941b4b-a9fb-419a-9a67-046b2d19dab6",
   "metadata": {},
   "source": [
    "# Charts"
   ]
  },
  {
   "cell_type": "code",
   "execution_count": 3,
   "id": "cec33152-eec3-41de-9e7a-d0d089a59182",
   "metadata": {
    "collapsed": true,
    "jupyter": {
     "outputs_hidden": true,
     "source_hidden": true
    },
    "tags": []
   },
   "outputs": [
    {
     "name": "stdout",
     "output_type": "stream",
     "text": [
      "\u001b[33mDEPRECATION: Configuring installation scheme with distutils config files is deprecated and will no longer work in the near future. If you are using a Homebrew or Linuxbrew Python, please see discussion at https://github.com/Homebrew/homebrew-core/issues/76621\u001b[0m\n",
      "Collecting numpy\n",
      "  Downloading numpy-1.21.4-cp39-cp39-macosx_10_9_x86_64.whl (17.0 MB)\n",
      "\u001b[K     |████████████████████████████████| 17.0 MB 4.8 MB/s eta 0:00:01\n",
      "\u001b[?25hInstalling collected packages: numpy\n",
      "\u001b[33m  DEPRECATION: Configuring installation scheme with distutils config files is deprecated and will no longer work in the near future. If you are using a Homebrew or Linuxbrew Python, please see discussion at https://github.com/Homebrew/homebrew-core/issues/76621\u001b[0m\n",
      "\u001b[33mDEPRECATION: Configuring installation scheme with distutils config files is deprecated and will no longer work in the near future. If you are using a Homebrew or Linuxbrew Python, please see discussion at https://github.com/Homebrew/homebrew-core/issues/76621\u001b[0m\n",
      "Successfully installed numpy-1.21.4\n",
      "\u001b[33mWARNING: You are using pip version 21.2.4; however, version 21.3.1 is available.\n",
      "You should consider upgrading via the '/usr/local/opt/python@3.9/bin/python3.9 -m pip install --upgrade pip' command.\u001b[0m\n"
     ]
    }
   ],
   "source": [
    "!pip3 install numpy matplotlib"
   ]
  },
  {
   "cell_type": "code",
   "execution_count": 65,
   "id": "f315dcf0-085b-425c-bb58-a77c6c4d1e13",
   "metadata": {
    "tags": []
   },
   "outputs": [
    {
     "data": {
      "image/png": "[encoded data removed]",
      "text/plain": [
       "<Figure size 432x288 with 1 Axes>"
      ]
     },
     "metadata": {
      "needs_background": "light"
     },
     "output_type": "display_data"
    }
   ],
   "source": [
    "import numpy as np\n",
    "import matplotlib.pyplot as plt\n",
    "\n",
    "MAX = 400\n",
    "\n",
    "plt.figure()\n",
    "plt.xlim(0, MAX)\n",
    "plt.ylim(0, MAX)\n",
    "\n",
    "# Plot x + y = k\n",
    "x, y = 50, 50\n",
    "k = x + y\n",
    "a = np.array(list(map(lambda i: [i, k - i], list(range(1, MAX)))))\n",
    "plt.plot(a.T[0], a.T[1], label='Constant price')\n",
    "\n",
    "# Plot x * y = k\n",
    "k = x * y\n",
    "b = np.array(list(map(lambda i: [i, k / i], list(range(1, MAX)))))\n",
    "plt.plot(b.T[0], b.T[1], label='Constant product')\n",
    "\n",
    "# Plot stablecoin invariant\n",
    "k = x * y\n",
    "c = np.array(list(map(lambda i: [i, k / i], list(range(1, MAX)))))\n",
    "plt.plot(c.T[0], c.T[1], label='Stablecoin invariant')\n",
    "\n",
    "plt.legend()\n",
    "plt.show()"
   ]
  },
  {
   "cell_type": "code",
   "execution_count": null,
   "id": "b78523e8-9cf6-495f-ac4a-505ba885b9e4",
   "metadata": {},
   "outputs": [],
   "source": []
  }
 ],
 "metadata": {
  "kernelspec": {
   "display_name": "Python 3 (ipykernel)",
   "language": "python",
   "name": "python3"
  },
  "language_info": {
   "codemirror_mode": {
    "name": "ipython",
    "version": 3
   },
   "file_extension": ".py",
   "mimetype": "text/x-python",
   "name": "python",
   "nbconvert_exporter": "python",
   "pygments_lexer": "ipython3",
   "version": "3.9.7"
  }
 },
 "nbformat": 4,
 "nbformat_minor": 5
}
